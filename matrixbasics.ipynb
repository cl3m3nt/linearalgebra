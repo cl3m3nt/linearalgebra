{
 "nbformat": 4,
 "nbformat_minor": 2,
 "metadata": {
  "language_info": {
   "name": "python",
   "codemirror_mode": {
    "name": "ipython",
    "version": 3
   },
   "version": "3.6.10-final"
  },
  "orig_nbformat": 2,
  "file_extension": ".py",
  "mimetype": "text/x-python",
  "name": "python",
  "npconvert_exporter": "python",
  "pygments_lexer": "ipython3",
  "version": 3,
  "kernelspec": {
   "name": "python361064bitconda839e08d74cee473c863bc1b96e981d55",
   "display_name": "Python 3.6.10 64-bit (conda)"
  }
 },
 "cells": [
  {
   "cell_type": "code",
   "execution_count": 1,
   "metadata": {},
   "outputs": [],
   "source": [
    "import numpy as np "
   ]
  },
  {
   "cell_type": "code",
   "execution_count": 8,
   "metadata": {},
   "outputs": [
    {
     "name": "stdout",
     "output_type": "stream",
     "text": "[[3 4]\n [5 6]]\n[[3 4]\n [5 6]]\n"
    }
   ],
   "source": [
    "matrix1 = np.mat([[3,4],[5,6]])\n",
    "matrix2 = np.mat([[3,4],[5,6]])\n",
    "print(matrix1)\n",
    "print(matrix2)"
   ]
  },
  {
   "cell_type": "code",
   "execution_count": 13,
   "metadata": {},
   "outputs": [
    {
     "name": "stdout",
     "output_type": "stream",
     "text": "[[ 6  8]\n [10 12]]\n[[ 6  8]\n [10 12]]\n"
    }
   ],
   "source": [
    "# matrix sum\n",
    "matSum1 = matrix1 + matrix2\n",
    "matSum2 = np.add(matrix1,matrix2)\n",
    "print(matSum1)\n",
    "print(matSum2)"
   ]
  },
  {
   "cell_type": "code",
   "execution_count": 15,
   "metadata": {},
   "outputs": [
    {
     "name": "stdout",
     "output_type": "stream",
     "text": "[[ 6  8]\n [10 12]]\n[[ 6  8]\n [10 12]]\n"
    }
   ],
   "source": [
    "# matrix multiplication by a scalar\n",
    "matrixScalar1 = matrix1*2\n",
    "matrixScalar2 = np.dot(matrix1,2)\n",
    "print(matrixScalar1)\n",
    "print(matrixScalar2)"
   ]
  },
  {
   "cell_type": "code",
   "execution_count": 18,
   "metadata": {},
   "outputs": [
    {
     "name": "stdout",
     "output_type": "stream",
     "text": "[[29 36]\n [45 56]]\n[[ 9 16]\n [25 36]]\n[[29 36]\n [45 56]]\n"
    }
   ],
   "source": [
    "# matrix product\n",
    "matProduct1 = matrix1*matrix2\n",
    "matProduct2 = np.multiply(matrix1,matrix2)\n",
    "matProduct3 = np.matmul(matrix1,matrix2)\n",
    "print(matProduct1)\n",
    "print(matProduct2)\n",
    "print(matProduct3)"
   ]
  },
  {
   "cell_type": "code",
   "execution_count": 9,
   "metadata": {},
   "outputs": [
    {
     "data": {
      "text/plain": "matrix([[29, 36],\n        [45, 56]])"
     },
     "execution_count": 9,
     "metadata": {},
     "output_type": "execute_result"
    }
   ],
   "source": [
    "# matrix product with np.matmul\n",
    "np.matmul(matrix1,matrix2)"
   ]
  },
  {
   "cell_type": "code",
   "execution_count": 46,
   "metadata": {},
   "outputs": [
    {
     "name": "stdout",
     "output_type": "stream",
     "text": "[[3 4]\n [5 6]\n [7 8]]\n[[3 4]\n [5 6]]\n[[3 4]\n [5 6]\n [7 8]]\n(3, 2)\n(2, 2)\n"
    }
   ],
   "source": [
    "matrix1 = np.mat([[3,4],[5,6],[7,8]])\n",
    "matrix2 = np.mat([[3,4],[5,6]])\n",
    "matrix3 = np.mat([[3,4],[5,6],[7,8]])\n",
    "print(matrix1)\n",
    "print(matrix2)\n",
    "print(matrix3)\n",
    "print(matrix1.shape)\n",
    "print(matrix2.shape)"
   ]
  },
  {
   "cell_type": "code",
   "execution_count": 40,
   "metadata": {},
   "outputs": [
    {
     "name": "stdout",
     "output_type": "stream",
     "text": "3\n2\n"
    }
   ],
   "source": [
    "mat1_dim = len(matrix1.shape)\n",
    "for i in range(0,mat1_dim):\n",
    "    print(matrix1.shape[i])"
   ]
  },
  {
   "cell_type": "code",
   "execution_count": 41,
   "metadata": {},
   "outputs": [
    {
     "name": "stdout",
     "output_type": "stream",
     "text": "2\n2\n"
    }
   ],
   "source": [
    "mat2_dim = len(matrix2.shape)\n",
    "for i in range(0,mat2_dim):\n",
    "    print(matrix2.shape[i])"
   ]
  },
  {
   "cell_type": "code",
   "execution_count": 42,
   "metadata": {},
   "outputs": [],
   "source": [
    "# number of col in mat1 should equal number of row in mat2 by Chasles rules for matrix multiplication\n",
    "def isMatrixProductAllowed(mat1,mat2):\n",
    "    mat1_col_dim = mat1.shape[1]\n",
    "    mat2_row_dim = mat2.shape[0]\n",
    "    if (mat1_col_dim == mat2_row_dim):\n",
    "        allowed = True\n",
    "    else:\n",
    "        allowed = False\n",
    "    return allowed"
   ]
  },
  {
   "cell_type": "code",
   "execution_count": 48,
   "metadata": {},
   "outputs": [
    {
     "name": "stdout",
     "output_type": "stream",
     "text": "True\nFalse\n"
    }
   ],
   "source": [
    "print(isMatrixProductAllowed(matrix1,matrix2))\n",
    "print(isMatrixProductAllowed(matrix1,matrix3))"
   ]
  },
  {
   "cell_type": "code",
   "execution_count": 50,
   "metadata": {},
   "outputs": [
    {
     "data": {
      "text/plain": "matrix([[29, 36],\n        [45, 56],\n        [61, 76]])"
     },
     "execution_count": 50,
     "metadata": {},
     "output_type": "execute_result"
    }
   ],
   "source": [
    "np.matmul(matrix1,matrix2)"
   ]
  },
  {
   "cell_type": "code",
   "execution_count": 52,
   "metadata": {},
   "outputs": [
    {
     "name": "stdout",
     "output_type": "stream",
     "text": "2\n2\n2\n"
    }
   ],
   "source": [
    "# matrix Rank: this tells the number of indepenant row or col\n",
    "print(np.linalg.matrix_rank(matrix1))\n",
    "print(np.linalg.matrix_rank(matrix2))\n",
    "print(np.linalg.matrix_rank(matrix3))\n",
    "# observation: matrix Rank can be computed for none square matrix"
   ]
  },
  {
   "cell_type": "code",
   "execution_count": 63,
   "metadata": {},
   "outputs": [],
   "source": [
    "def isMatrixSquare(matrix):\n",
    "    matrix_shape = matrix.shape\n",
    "    if (matrix_shape[0]==matrix_shape[1]):\n",
    "        is_squared = True\n",
    "    else:\n",
    "        is_squared = False\n",
    "    return is_squared"
   ]
  },
  {
   "cell_type": "code",
   "execution_count": 62,
   "metadata": {},
   "outputs": [
    {
     "name": "stdout",
     "output_type": "stream",
     "text": "False\nTrue\nFalse\n"
    }
   ],
   "source": [
    "print(isMatrixSquare(matrix1))\n",
    "print(isMatrixSquare(matrix2))\n",
    "print(isMatrixSquare(matrix3))"
   ]
  },
  {
   "cell_type": "code",
   "execution_count": 56,
   "metadata": {},
   "outputs": [
    {
     "data": {
      "text/plain": "matrix([[29, 36],\n        [45, 56]])"
     },
     "execution_count": 56,
     "metadata": {},
     "output_type": "execute_result"
    }
   ],
   "source": [
    "# Matrix Power\n",
    "np.linalg.matrix_power(matrix2,2)\n",
    "# observation: this is only allowed for squared matrix\n",
    "# remark: Markov N-step Transition Matrix is squared by design - the np.linalg.matrix_power can help to compute it"
   ]
  },
  {
   "cell_type": "code",
   "execution_count": 58,
   "metadata": {},
   "outputs": [
    {
     "data": {
      "text/plain": "array([[1., 0., 0.],\n       [0., 1., 0.],\n       [0., 0., 1.]])"
     },
     "execution_count": 58,
     "metadata": {},
     "output_type": "execute_result"
    }
   ],
   "source": [
    "# Identity Matrix\n",
    "identity = np.identity(3)\n",
    "identity"
   ]
  },
  {
   "cell_type": "code",
   "execution_count": 64,
   "metadata": {},
   "outputs": [],
   "source": [
    "# Matrix Factorization\n",
    "# https://en.wikipedia.org/wiki/Matrix_factorization_(recommender_systems)"
   ]
  },
  {
   "cell_type": "code",
   "execution_count": 67,
   "metadata": {},
   "outputs": [
    {
     "data": {
      "text/plain": "matrix([[-3. ,  2. ],\n        [ 2.5, -1.5]])"
     },
     "execution_count": 67,
     "metadata": {},
     "output_type": "execute_result"
    }
   ],
   "source": [
    "# Matrix Inverse\n",
    "np.linalg.inv(matrix2)\n",
    "# observation: Matrix inverse can only exist for squared Matrix\n",
    "# reminder: a squared Matrix is not always inversible"
   ]
  },
  {
   "cell_type": "code",
   "execution_count": 71,
   "metadata": {},
   "outputs": [
    {
     "name": "stdout",
     "output_type": "stream",
     "text": "-0.21699056602830158\n9.216990566028302\n"
    }
   ],
   "source": [
    "# Eigen Vector and Eigen Value\n",
    "la, v = np.linalg.eigvals(matrix2)\n",
    "print(la)\n",
    "print(v)\n",
    "# observation: E"
   ]
  },
  {
   "cell_type": "code",
   "execution_count": 74,
   "metadata": {},
   "outputs": [],
   "source": [
    "# Diagonal Matrix\n",
    "diagMatrix = np.diag((1,2,3))"
   ]
  }
 ]
}